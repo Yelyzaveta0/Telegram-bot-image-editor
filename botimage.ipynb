{
  "nbformat": 4,
  "nbformat_minor": 0,
  "metadata": {
    "colab": {
      "provenance": [],
      "authorship_tag": "ABX9TyPmKj4eJKhZbBM8r8Rs0hnh",
      "include_colab_link": true
    },
    "kernelspec": {
      "name": "python3",
      "display_name": "Python 3"
    },
    "language_info": {
      "name": "python"
    }
  },
  "cells": [
    {
      "cell_type": "markdown",
      "metadata": {
        "id": "view-in-github",
        "colab_type": "text"
      },
      "source": [
        "<a href=\"https://colab.research.google.com/github/Yelyzaveta0/Telegram-bot-image-editor/blob/main/botimage.ipynb\" target=\"_parent\"><img src=\"https://colab.research.google.com/assets/colab-badge.svg\" alt=\"Open In Colab\"/></a>"
      ]
    },
    {
      "cell_type": "code",
      "metadata": {
        "colab": {
          "base_uri": "https://localhost:8080/"
        },
        "id": "JJceaXWm0El1",
        "outputId": "452cdce9-bfcd-48b0-e8b9-f9c5010e3469"
      },
      "source": [
        "!pip install telebot pytelegrambotapi opencv-python"
      ],
      "execution_count": null,
      "outputs": [
        {
          "output_type": "stream",
          "name": "stdout",
          "text": [
            "Requirement already satisfied: telebot in /usr/local/lib/python3.7/dist-packages (0.0.4)\n",
            "Requirement already satisfied: pytelegrambotapi in /usr/local/lib/python3.7/dist-packages (4.5.1)\n",
            "Requirement already satisfied: opencv-python in /usr/local/lib/python3.7/dist-packages (4.1.2.30)\n",
            "Requirement already satisfied: requests in /usr/local/lib/python3.7/dist-packages (from telebot) (2.23.0)\n",
            "Requirement already satisfied: numpy>=1.14.5 in /usr/local/lib/python3.7/dist-packages (from opencv-python) (1.21.6)\n",
            "Requirement already satisfied: certifi>=2017.4.17 in /usr/local/lib/python3.7/dist-packages (from requests->telebot) (2021.10.8)\n",
            "Requirement already satisfied: urllib3!=1.25.0,!=1.25.1,<1.26,>=1.21.1 in /usr/local/lib/python3.7/dist-packages (from requests->telebot) (1.24.3)\n",
            "Requirement already satisfied: chardet<4,>=3.0.2 in /usr/local/lib/python3.7/dist-packages (from requests->telebot) (3.0.4)\n",
            "Requirement already satisfied: idna<3,>=2.5 in /usr/local/lib/python3.7/dist-packages (from requests->telebot) (2.10)\n"
          ]
        }
      ]
    },
    {
      "cell_type": "code",
      "metadata": {
        "id": "Zgzy10hZ1azT"
      },
      "source": [
        "import telebot\n",
        "token = '1628028964:AAHo5dWBOHH-yLSYD1-_b1IKct_zwpTmbZA'\n",
        "bot = telebot.TeleBot(token)\n",
        "\n",
        "@bot.message_handler(content_types = ['photo'])\n",
        "def download_photo(message):\n",
        "  file_info = bot.get_file(message.photo[len(message.photo) - 1].file_id)\n",
        "  downloaded_file = bot.download_file(file_info.file_path)\n",
        "  src = message.photo[1].file_id\n",
        "  with open(f'{src}.jpg', 'wb') as file:\n",
        "    file.write(downloaded_file)\n",
        "    image_processing(f'{src}.jpg')\n",
        "    grey_image = open('grey'+ f'{src}.jpg', 'rb')\n",
        "    blur_image = open('blur'+ f'{src}.jpg', 'rb')\n",
        "    sobel_image = open('sobel'+ f'{src}.jpg', 'rb')\n",
        "    bot.send_photo(message.chat.id, grey_image)\n",
        "    bot.send_photo(message.chat.id, blur_image)\n",
        "    bot.send_photo(message.chat.id, sobel_image)\n",
        "    grey_image.close()\n",
        "    blur_image.close()\n",
        "    sobel_image.close()\n",
        "if __name__ == '__main__':\n",
        "  bot.polling(none_stop = True)"
      ],
      "execution_count": null,
      "outputs": []
    },
    {
      "cell_type": "code",
      "metadata": {
        "id": "Q_XX4NLo6Cky"
      },
      "source": [
        "import cv2\n",
        "def image_processing(file_path):\n",
        "  image_grey = cv2.imread(file_path, cv2.IMREAD_GRAYSCALE)\n",
        "  cv2.imwrite('grey'+file_path, image_grey)\n",
        "\n",
        "  image = cv2.imread(file_path)\n",
        "  ksize = (40, 40)\n",
        "  img_blur = cv2.blur(image, ksize, cv2.BORDER_CONSTANT)\n",
        "  cv2.imwrite('blur'+file_path, img_blur)\n",
        "\n",
        "  image = cv2.imread(file_path)\n",
        "  image = cv2.cvtColor(image, cv2.COLOR_BGR2RGB)\n",
        "\n",
        "  x_sobel = cv2.Sobel(image, cv2.CV_64F, 0, 1, ksize = 5)\n",
        "\n",
        "  cv2.imwrite('sobel'+file_path, x_sobel)\n"
      ],
      "execution_count": null,
      "outputs": []
    }
  ]
}